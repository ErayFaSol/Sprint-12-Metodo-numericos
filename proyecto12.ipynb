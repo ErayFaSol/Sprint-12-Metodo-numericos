{
 "cells": [
  {
   "cell_type": "markdown",
   "metadata": {},
   "source": [
    "# Hola Eduardo! <a class=\"tocSkip\"></a>\n",
    "\n",
    "Mi nombre es Oscar Flores y tengo el gusto de revisar tu proyecto. Si tienes algún comentario que quieras agregar en tus respuestas te puedes referir a mi como Oscar, no hay problema que me trates de tú.\n",
    "\n",
    "Si veo un error en la primera revisión solamente lo señalaré y dejaré que tú encuentres de qué se trata y cómo arreglarlo. Debo prepararte para que te desempeñes como especialista en Data, en un trabajo real, el responsable a cargo tuyo hará lo mismo. Si aún tienes dificultades para resolver esta tarea, te daré indicaciones más precisas en una siguiente iteración.\n",
    "\n",
    "Te dejaré mis comentarios más abajo - **por favor, no los muevas, modifiques o borres**\n",
    "\n",
    "Comenzaré mis comentarios con un resumen de los puntos que están bien, aquellos que debes corregir y aquellos que puedes mejorar. Luego deberás revisar todo el notebook para leer mis comentarios, los cuales estarán en rectángulos de color verde, amarillo o rojo como siguen:\n",
    "\n",
    "<div class=\"alert alert-block alert-success\">\n",
    "<b>Comentario de Reviewer</b> <a class=\"tocSkip\"></a>\n",
    "    \n",
    "Muy bien! Toda la respuesta fue lograda satisfactoriamente.\n",
    "</div>\n",
    "\n",
    "<div class=\"alert alert-block alert-warning\">\n",
    "<b>Comentario de Reviewer</b> <a class=\"tocSkip\"></a>\n",
    "\n",
    "Existen detalles a mejorar. Existen recomendaciones.\n",
    "</div>\n",
    "\n",
    "<div class=\"alert alert-block alert-danger\">\n",
    "\n",
    "<b>Comentario de Reviewer</b> <a class=\"tocSkip\"></a>\n",
    "\n",
    "Se necesitan correcciones en el bloque. El trabajo no puede ser aceptado con comentarios en rojo sin solucionar.\n",
    "</div>\n",
    "\n",
    "Cualquier comentario que quieras agregar entre iteraciones de revisión lo puedes hacer de la siguiente manera:\n",
    "\n",
    "<div class=\"alert alert-block alert-info\">\n",
    "<b>Respuesta estudiante.</b> <a class=\"tocSkip\"></a>\n",
    "</div>\n"
   ]
  },
  {
   "cell_type": "markdown",
   "metadata": {},
   "source": [
    "## Resumen de la revisión 1 <a class=\"tocSkip\"></a>"
   ]
  },
  {
   "cell_type": "markdown",
   "metadata": {},
   "source": [
    "<div class=\"alert alert-block alert-danger\">\n",
    "<b>Comentario de Reviewer</b> <a class=\"tocSkip\"></a>\n",
    "\n",
    "Buen trabajo, pero faltó revisar más en detalle los datos, aún hay observaciones que merece revisar si se descartan. El entrenamiento de los modelos me parece que está correcto, revisa los datos si aún hay que cambiarlos y luego revisa cómo cambian los resultados de los modelos. \n",
    "    \n",
    "Saludos!    \n",
    "</div>"
   ]
  },
  {
   "cell_type": "markdown",
   "metadata": {},
   "source": [
    "## Resumen de la revisión 2 <a class=\"tocSkip\"></a>"
   ]
  },
  {
   "cell_type": "markdown",
   "metadata": {},
   "source": [
    "<div class=\"alert alert-block alert-success\">\n",
    "<b>Comentario de Reviewer v2</b> <a class=\"tocSkip\"></a>\n",
    "\n",
    "Bien hecho Eduardo, has corregido lo que faltaba y el resto del notebook ya estaba bien, por lo tanto, está todo lo necesario. No tengo más comentarios a realizar, tu notebook está aprobado.\n",
    "    \n",
    "Saludos!    \n",
    "</div>"
   ]
  },
  {
   "cell_type": "markdown",
   "metadata": {},
   "source": [
    "----"
   ]
  },
  {
   "cell_type": "markdown",
   "metadata": {},
   "source": [
    "El servicio de venta de autos usados Rusty Bargain está desarrollando una aplicación para atraer nuevos clientes. Gracias a esa app, puedes averiguar rápidamente el valor de mercado de tu coche. Tienes acceso al historial: especificaciones técnicas, versiones de equipamiento y precios. Tienes que crear un modelo que determine el valor de mercado.\n",
    "A Rusty Bargain le interesa:\n",
    "- la calidad de la predicción;\n",
    "- la velocidad de la predicción;\n",
    "- el tiempo requerido para el entrenamiento"
   ]
  },
  {
   "cell_type": "markdown",
   "metadata": {},
   "source": [
    "## Preparación de datos"
   ]
  },
  {
   "cell_type": "code",
   "execution_count": 1,
   "metadata": {},
   "outputs": [],
   "source": [
    "# Importar bibliotecas\n",
    "import pandas as pd\n",
    "import numpy as np\n",
    "import matplotlib.pyplot as plt\n",
    "import seaborn as sns\n",
    "import time\n",
    "from datetime import datetime\n",
    "from IPython.display import display, HTML\n",
    "from sklearn.model_selection import train_test_split\n",
    "from sklearn.linear_model import LinearRegression\n",
    "from sklearn.tree import DecisionTreeRegressor\n",
    "from sklearn.ensemble import RandomForestRegressor\n",
    "import lightgbm as lgb\n",
    "from sklearn.metrics import mean_squared_error"
   ]
  },
  {
   "cell_type": "code",
   "execution_count": 2,
   "metadata": {},
   "outputs": [],
   "source": [
    "# Cargar DataSet\n",
    "df = pd.read_csv(\"datasets/car_data.csv\")"
   ]
  },
  {
   "cell_type": "code",
   "execution_count": 3,
   "metadata": {},
   "outputs": [
    {
     "data": {
      "text/html": [
       "<h1> Rusty Bargain DataFrame"
      ],
      "text/plain": [
       "<IPython.core.display.HTML object>"
      ]
     },
     "metadata": {},
     "output_type": "display_data"
    },
    {
     "data": {
      "text/html": [
       "<hr>"
      ],
      "text/plain": [
       "<IPython.core.display.HTML object>"
      ]
     },
     "metadata": {},
     "output_type": "display_data"
    },
    {
     "data": {
      "text/html": [
       "<h2> Informacion general"
      ],
      "text/plain": [
       "<IPython.core.display.HTML object>"
      ]
     },
     "metadata": {},
     "output_type": "display_data"
    },
    {
     "name": "stdout",
     "output_type": "stream",
     "text": [
      "<class 'pandas.core.frame.DataFrame'>\n",
      "RangeIndex: 354369 entries, 0 to 354368\n",
      "Data columns (total 16 columns):\n",
      " #   Column             Non-Null Count   Dtype \n",
      "---  ------             --------------   ----- \n",
      " 0   DateCrawled        354369 non-null  object\n",
      " 1   Price              354369 non-null  int64 \n",
      " 2   VehicleType        316879 non-null  object\n",
      " 3   RegistrationYear   354369 non-null  int64 \n",
      " 4   Gearbox            334536 non-null  object\n",
      " 5   Power              354369 non-null  int64 \n",
      " 6   Model              334664 non-null  object\n",
      " 7   Mileage            354369 non-null  int64 \n",
      " 8   RegistrationMonth  354369 non-null  int64 \n",
      " 9   FuelType           321474 non-null  object\n",
      " 10  Brand              354369 non-null  object\n",
      " 11  NotRepaired        283215 non-null  object\n",
      " 12  DateCreated        354369 non-null  object\n",
      " 13  NumberOfPictures   354369 non-null  int64 \n",
      " 14  PostalCode         354369 non-null  int64 \n",
      " 15  LastSeen           354369 non-null  object\n",
      "dtypes: int64(7), object(9)\n",
      "memory usage: 43.3+ MB\n"
     ]
    },
    {
     "data": {
      "text/plain": [
       "None"
      ]
     },
     "metadata": {},
     "output_type": "display_data"
    },
    {
     "data": {
      "text/html": [
       "<hr>"
      ],
      "text/plain": [
       "<IPython.core.display.HTML object>"
      ]
     },
     "metadata": {},
     "output_type": "display_data"
    },
    {
     "data": {
      "text/html": [
       "<h2> Estadisticas descriptivas"
      ],
      "text/plain": [
       "<IPython.core.display.HTML object>"
      ]
     },
     "metadata": {},
     "output_type": "display_data"
    },
    {
     "data": {
      "text/html": [
       "<div>\n",
       "<style scoped>\n",
       "    .dataframe tbody tr th:only-of-type {\n",
       "        vertical-align: middle;\n",
       "    }\n",
       "\n",
       "    .dataframe tbody tr th {\n",
       "        vertical-align: top;\n",
       "    }\n",
       "\n",
       "    .dataframe thead th {\n",
       "        text-align: right;\n",
       "    }\n",
       "</style>\n",
       "<table border=\"1\" class=\"dataframe\">\n",
       "  <thead>\n",
       "    <tr style=\"text-align: right;\">\n",
       "      <th></th>\n",
       "      <th>Price</th>\n",
       "      <th>RegistrationYear</th>\n",
       "      <th>Power</th>\n",
       "      <th>Mileage</th>\n",
       "      <th>RegistrationMonth</th>\n",
       "      <th>NumberOfPictures</th>\n",
       "      <th>PostalCode</th>\n",
       "    </tr>\n",
       "  </thead>\n",
       "  <tbody>\n",
       "    <tr>\n",
       "      <th>count</th>\n",
       "      <td>354369.000000</td>\n",
       "      <td>354369.000000</td>\n",
       "      <td>354369.000000</td>\n",
       "      <td>354369.000000</td>\n",
       "      <td>354369.000000</td>\n",
       "      <td>354369.0</td>\n",
       "      <td>354369.000000</td>\n",
       "    </tr>\n",
       "    <tr>\n",
       "      <th>mean</th>\n",
       "      <td>4416.656776</td>\n",
       "      <td>2004.234448</td>\n",
       "      <td>110.094337</td>\n",
       "      <td>128211.172535</td>\n",
       "      <td>5.714645</td>\n",
       "      <td>0.0</td>\n",
       "      <td>50508.689087</td>\n",
       "    </tr>\n",
       "    <tr>\n",
       "      <th>std</th>\n",
       "      <td>4514.158514</td>\n",
       "      <td>90.227958</td>\n",
       "      <td>189.850405</td>\n",
       "      <td>37905.341530</td>\n",
       "      <td>3.726421</td>\n",
       "      <td>0.0</td>\n",
       "      <td>25783.096248</td>\n",
       "    </tr>\n",
       "    <tr>\n",
       "      <th>min</th>\n",
       "      <td>0.000000</td>\n",
       "      <td>1000.000000</td>\n",
       "      <td>0.000000</td>\n",
       "      <td>5000.000000</td>\n",
       "      <td>0.000000</td>\n",
       "      <td>0.0</td>\n",
       "      <td>1067.000000</td>\n",
       "    </tr>\n",
       "    <tr>\n",
       "      <th>25%</th>\n",
       "      <td>1050.000000</td>\n",
       "      <td>1999.000000</td>\n",
       "      <td>69.000000</td>\n",
       "      <td>125000.000000</td>\n",
       "      <td>3.000000</td>\n",
       "      <td>0.0</td>\n",
       "      <td>30165.000000</td>\n",
       "    </tr>\n",
       "    <tr>\n",
       "      <th>50%</th>\n",
       "      <td>2700.000000</td>\n",
       "      <td>2003.000000</td>\n",
       "      <td>105.000000</td>\n",
       "      <td>150000.000000</td>\n",
       "      <td>6.000000</td>\n",
       "      <td>0.0</td>\n",
       "      <td>49413.000000</td>\n",
       "    </tr>\n",
       "    <tr>\n",
       "      <th>75%</th>\n",
       "      <td>6400.000000</td>\n",
       "      <td>2008.000000</td>\n",
       "      <td>143.000000</td>\n",
       "      <td>150000.000000</td>\n",
       "      <td>9.000000</td>\n",
       "      <td>0.0</td>\n",
       "      <td>71083.000000</td>\n",
       "    </tr>\n",
       "    <tr>\n",
       "      <th>max</th>\n",
       "      <td>20000.000000</td>\n",
       "      <td>9999.000000</td>\n",
       "      <td>20000.000000</td>\n",
       "      <td>150000.000000</td>\n",
       "      <td>12.000000</td>\n",
       "      <td>0.0</td>\n",
       "      <td>99998.000000</td>\n",
       "    </tr>\n",
       "  </tbody>\n",
       "</table>\n",
       "</div>"
      ],
      "text/plain": [
       "               Price  RegistrationYear          Power        Mileage  \\\n",
       "count  354369.000000     354369.000000  354369.000000  354369.000000   \n",
       "mean     4416.656776       2004.234448     110.094337  128211.172535   \n",
       "std      4514.158514         90.227958     189.850405   37905.341530   \n",
       "min         0.000000       1000.000000       0.000000    5000.000000   \n",
       "25%      1050.000000       1999.000000      69.000000  125000.000000   \n",
       "50%      2700.000000       2003.000000     105.000000  150000.000000   \n",
       "75%      6400.000000       2008.000000     143.000000  150000.000000   \n",
       "max     20000.000000       9999.000000   20000.000000  150000.000000   \n",
       "\n",
       "       RegistrationMonth  NumberOfPictures     PostalCode  \n",
       "count      354369.000000          354369.0  354369.000000  \n",
       "mean            5.714645               0.0   50508.689087  \n",
       "std             3.726421               0.0   25783.096248  \n",
       "min             0.000000               0.0    1067.000000  \n",
       "25%             3.000000               0.0   30165.000000  \n",
       "50%             6.000000               0.0   49413.000000  \n",
       "75%             9.000000               0.0   71083.000000  \n",
       "max            12.000000               0.0   99998.000000  "
      ]
     },
     "metadata": {},
     "output_type": "display_data"
    },
    {
     "data": {
      "text/html": [
       "<hr>"
      ],
      "text/plain": [
       "<IPython.core.display.HTML object>"
      ]
     },
     "metadata": {},
     "output_type": "display_data"
    },
    {
     "data": {
      "text/html": [
       "<h2> Muestra de tabla"
      ],
      "text/plain": [
       "<IPython.core.display.HTML object>"
      ]
     },
     "metadata": {},
     "output_type": "display_data"
    },
    {
     "data": {
      "text/html": [
       "<div>\n",
       "<style scoped>\n",
       "    .dataframe tbody tr th:only-of-type {\n",
       "        vertical-align: middle;\n",
       "    }\n",
       "\n",
       "    .dataframe tbody tr th {\n",
       "        vertical-align: top;\n",
       "    }\n",
       "\n",
       "    .dataframe thead th {\n",
       "        text-align: right;\n",
       "    }\n",
       "</style>\n",
       "<table border=\"1\" class=\"dataframe\">\n",
       "  <thead>\n",
       "    <tr style=\"text-align: right;\">\n",
       "      <th></th>\n",
       "      <th>DateCrawled</th>\n",
       "      <th>Price</th>\n",
       "      <th>VehicleType</th>\n",
       "      <th>RegistrationYear</th>\n",
       "      <th>Gearbox</th>\n",
       "      <th>Power</th>\n",
       "      <th>Model</th>\n",
       "      <th>Mileage</th>\n",
       "      <th>RegistrationMonth</th>\n",
       "      <th>FuelType</th>\n",
       "      <th>Brand</th>\n",
       "      <th>NotRepaired</th>\n",
       "      <th>DateCreated</th>\n",
       "      <th>NumberOfPictures</th>\n",
       "      <th>PostalCode</th>\n",
       "      <th>LastSeen</th>\n",
       "    </tr>\n",
       "  </thead>\n",
       "  <tbody>\n",
       "    <tr>\n",
       "      <th>118901</th>\n",
       "      <td>03/04/2016 04:36</td>\n",
       "      <td>14500</td>\n",
       "      <td>suv</td>\n",
       "      <td>2008</td>\n",
       "      <td>auto</td>\n",
       "      <td>140</td>\n",
       "      <td>tiguan</td>\n",
       "      <td>150000</td>\n",
       "      <td>12</td>\n",
       "      <td>gasoline</td>\n",
       "      <td>volkswagen</td>\n",
       "      <td>no</td>\n",
       "      <td>03/04/2016 00:00</td>\n",
       "      <td>0</td>\n",
       "      <td>14467</td>\n",
       "      <td>03/04/2016 09:43</td>\n",
       "    </tr>\n",
       "    <tr>\n",
       "      <th>77330</th>\n",
       "      <td>12/03/2016 16:49</td>\n",
       "      <td>2200</td>\n",
       "      <td>small</td>\n",
       "      <td>2008</td>\n",
       "      <td>manual</td>\n",
       "      <td>67</td>\n",
       "      <td>getz</td>\n",
       "      <td>150000</td>\n",
       "      <td>7</td>\n",
       "      <td>petrol</td>\n",
       "      <td>hyundai</td>\n",
       "      <td>no</td>\n",
       "      <td>12/03/2016 00:00</td>\n",
       "      <td>0</td>\n",
       "      <td>41749</td>\n",
       "      <td>07/04/2016 07:17</td>\n",
       "    </tr>\n",
       "    <tr>\n",
       "      <th>107925</th>\n",
       "      <td>11/03/2016 23:56</td>\n",
       "      <td>850</td>\n",
       "      <td>small</td>\n",
       "      <td>2000</td>\n",
       "      <td>manual</td>\n",
       "      <td>54</td>\n",
       "      <td>corsa</td>\n",
       "      <td>150000</td>\n",
       "      <td>1</td>\n",
       "      <td>petrol</td>\n",
       "      <td>opel</td>\n",
       "      <td>no</td>\n",
       "      <td>11/03/2016 00:00</td>\n",
       "      <td>0</td>\n",
       "      <td>59368</td>\n",
       "      <td>05/04/2016 17:45</td>\n",
       "    </tr>\n",
       "    <tr>\n",
       "      <th>222660</th>\n",
       "      <td>24/03/2016 16:55</td>\n",
       "      <td>950</td>\n",
       "      <td>small</td>\n",
       "      <td>1996</td>\n",
       "      <td>manual</td>\n",
       "      <td>60</td>\n",
       "      <td>golf</td>\n",
       "      <td>150000</td>\n",
       "      <td>0</td>\n",
       "      <td>petrol</td>\n",
       "      <td>volkswagen</td>\n",
       "      <td>no</td>\n",
       "      <td>24/03/2016 00:00</td>\n",
       "      <td>0</td>\n",
       "      <td>45896</td>\n",
       "      <td>07/04/2016 09:17</td>\n",
       "    </tr>\n",
       "    <tr>\n",
       "      <th>103202</th>\n",
       "      <td>17/03/2016 12:38</td>\n",
       "      <td>1500</td>\n",
       "      <td>sedan</td>\n",
       "      <td>1998</td>\n",
       "      <td>manual</td>\n",
       "      <td>0</td>\n",
       "      <td>golf</td>\n",
       "      <td>150000</td>\n",
       "      <td>6</td>\n",
       "      <td>petrol</td>\n",
       "      <td>volkswagen</td>\n",
       "      <td>no</td>\n",
       "      <td>17/03/2016 00:00</td>\n",
       "      <td>0</td>\n",
       "      <td>25746</td>\n",
       "      <td>21/03/2016 15:46</td>\n",
       "    </tr>\n",
       "  </tbody>\n",
       "</table>\n",
       "</div>"
      ],
      "text/plain": [
       "             DateCrawled  Price VehicleType  RegistrationYear Gearbox  Power  \\\n",
       "118901  03/04/2016 04:36  14500         suv              2008    auto    140   \n",
       "77330   12/03/2016 16:49   2200       small              2008  manual     67   \n",
       "107925  11/03/2016 23:56    850       small              2000  manual     54   \n",
       "222660  24/03/2016 16:55    950       small              1996  manual     60   \n",
       "103202  17/03/2016 12:38   1500       sedan              1998  manual      0   \n",
       "\n",
       "         Model  Mileage  RegistrationMonth  FuelType       Brand NotRepaired  \\\n",
       "118901  tiguan   150000                 12  gasoline  volkswagen          no   \n",
       "77330     getz   150000                  7    petrol     hyundai          no   \n",
       "107925   corsa   150000                  1    petrol        opel          no   \n",
       "222660    golf   150000                  0    petrol  volkswagen          no   \n",
       "103202    golf   150000                  6    petrol  volkswagen          no   \n",
       "\n",
       "             DateCreated  NumberOfPictures  PostalCode          LastSeen  \n",
       "118901  03/04/2016 00:00                 0       14467  03/04/2016 09:43  \n",
       "77330   12/03/2016 00:00                 0       41749  07/04/2016 07:17  \n",
       "107925  11/03/2016 00:00                 0       59368  05/04/2016 17:45  \n",
       "222660  24/03/2016 00:00                 0       45896  07/04/2016 09:17  \n",
       "103202  17/03/2016 00:00                 0       25746  21/03/2016 15:46  "
      ]
     },
     "metadata": {},
     "output_type": "display_data"
    }
   ],
   "source": [
    "# Exploracion inicial \n",
    "display(HTML('<h1> Rusty Bargain DataFrame'))\n",
    "display(HTML('<hr>'))\n",
    "\n",
    "display(HTML('<h2> Informacion general'))\n",
    "display(df.info())\n",
    "display(HTML('<hr>'))\n",
    "\n",
    "display(HTML('<h2> Estadisticas descriptivas'))\n",
    "display(df.describe())\n",
    "display(HTML('<hr>'))\n",
    "\n",
    "display(HTML('<h2> Muestra de tabla'))\n",
    "display(df.sample(5))"
   ]
  },
  {
   "cell_type": "markdown",
   "metadata": {},
   "source": [
    "<div class=\"alert alert-block alert-success\">\n",
    "<b>Comentario de Reviewer</b> <a class=\"tocSkip\"></a>\n",
    "\n",
    "Muy bien, esto muestra los datos disponibles.\n",
    "</div>"
   ]
  },
  {
   "cell_type": "markdown",
   "metadata": {},
   "source": [
    "## Preprocesamiento de datos"
   ]
  },
  {
   "cell_type": "code",
   "execution_count": 4,
   "metadata": {},
   "outputs": [
    {
     "name": "stdout",
     "output_type": "stream",
     "text": [
      "Numero de duplicados previos: 262\n",
      "Verificacion de duplicados: 0\n"
     ]
    }
   ],
   "source": [
    "# Eliminar filas duplicadas\n",
    "print(f\"Numero de duplicados previos: {df.duplicated().sum()}\")\n",
    "df = df.drop_duplicates()\n",
    "print(f\"Verificacion de duplicados: {df.duplicated().sum()}\")"
   ]
  },
  {
   "cell_type": "markdown",
   "metadata": {},
   "source": [
    "<div class=\"alert alert-block alert-success\">\n",
    "<b>Comentario de Reviewer</b> <a class=\"tocSkip\"></a>\n",
    "\n",
    "Correcto, es poco probable que estos datos tengan todas las columnas iguales y estén correctos.\n",
    "</div>"
   ]
  },
  {
   "cell_type": "code",
   "execution_count": 5,
   "metadata": {},
   "outputs": [
    {
     "name": "stdout",
     "output_type": "stream",
     "text": [
      "Numero de valores nulos previos: DateCrawled              0\n",
      "Price                    0\n",
      "VehicleType          37484\n",
      "RegistrationYear         0\n",
      "Gearbox              19830\n",
      "Power                    0\n",
      "Model                19701\n",
      "Mileage                  0\n",
      "RegistrationMonth        0\n",
      "FuelType             32889\n",
      "Brand                    0\n",
      "NotRepaired          71145\n",
      "DateCreated              0\n",
      "NumberOfPictures         0\n",
      "PostalCode               0\n",
      "LastSeen                 0\n",
      "dtype: int64\n",
      "Verificacion de valores nulos : DateCrawled          0\n",
      "Price                0\n",
      "VehicleType          0\n",
      "RegistrationYear     0\n",
      "Gearbox              0\n",
      "Power                0\n",
      "Model                0\n",
      "Mileage              0\n",
      "RegistrationMonth    0\n",
      "FuelType             0\n",
      "Brand                0\n",
      "NotRepaired          0\n",
      "DateCreated          0\n",
      "NumberOfPictures     0\n",
      "PostalCode           0\n",
      "LastSeen             0\n",
      "dtype: int64\n"
     ]
    }
   ],
   "source": [
    "print(f\"Numero de valores nulos previos: {df.isnull().sum()}\")\n",
    "\n",
    "# Imputar valores nulos con la moda para las columnas categoricas\n",
    "df['VehicleType'].fillna(df['VehicleType'].mode()[0], inplace=True)\n",
    "df['Gearbox'].fillna(df['Gearbox'].mode()[0], inplace=True)\n",
    "df['Model'].fillna(df['Model'].mode()[0], inplace=True)\n",
    "df['FuelType'].fillna(df['FuelType'].mode()[0], inplace=True)\n",
    "df['NotRepaired'].fillna('no', inplace=True)  # Asumimos que la mayoría de los autos no están reparados\n",
    "\n",
    "print(f\"Verificacion de valores nulos : {df.isnull().sum()}\")"
   ]
  },
  {
   "cell_type": "markdown",
   "metadata": {},
   "source": [
    "<div class=\"alert alert-block alert-success\">\n",
    "<b>Comentario de Reviewer</b> <a class=\"tocSkip\"></a>\n",
    "\n",
    "Ok, pero cuidado, no siempre es bueno imputar por la moda general, normalmente es mejor condicionar esta moda a otros valores.\n",
    "</div>"
   ]
  },
  {
   "cell_type": "code",
   "execution_count": 6,
   "metadata": {},
   "outputs": [],
   "source": [
    "# Eliminar filas donde el precio es 0\n",
    "df = df[df['Price'] > 0]"
   ]
  },
  {
   "cell_type": "code",
   "execution_count": 7,
   "metadata": {},
   "outputs": [],
   "source": [
    "# Definir el rango de años de registro válidos\n",
    "current_year = datetime.now().year\n",
    "df = df[(df['RegistrationYear'] >= 1900) & (df['RegistrationYear'] <= current_year)]"
   ]
  },
  {
   "cell_type": "code",
   "execution_count": 8,
   "metadata": {},
   "outputs": [],
   "source": [
    "# Eliminar filas donde la potencia es 0\n",
    "df = df[df['Power'] > 0]"
   ]
  },
  {
   "cell_type": "code",
   "execution_count": 9,
   "metadata": {},
   "outputs": [],
   "source": [
    "# Convertir columnas de fechas a formato datetime\n",
    "df['DateCrawled'] = pd.to_datetime(df['DateCrawled'], format='%d/%m/%Y %H:%M')\n",
    "df['DateCreated'] = pd.to_datetime(df['DateCreated'], format='%d/%m/%Y %H:%M')\n",
    "df['LastSeen'] = pd.to_datetime(df['LastSeen'], format='%d/%m/%Y %H:%M')\n"
   ]
  },
  {
   "cell_type": "code",
   "execution_count": 10,
   "metadata": {},
   "outputs": [],
   "source": [
    "# Eliminar columnas irrelevantes\n",
    "# Nota: Reiniciar el kernel despues de la primera ejecucion\n",
    "df = df.drop(columns=['NumberOfPictures'])\n"
   ]
  },
  {
   "cell_type": "markdown",
   "metadata": {},
   "source": [
    "<div class=\"alert alert-block alert-success\">\n",
    "<b>Comentario de Reviewer</b> <a class=\"tocSkip\"></a>\n",
    "\n",
    "Correcto, es una columna constante\n",
    "</div>"
   ]
  },
  {
   "cell_type": "code",
   "execution_count": 11,
   "metadata": {},
   "outputs": [
    {
     "data": {
      "text/html": [
       "<h1> Revisión final del DataFrame"
      ],
      "text/plain": [
       "<IPython.core.display.HTML object>"
      ]
     },
     "metadata": {},
     "output_type": "display_data"
    },
    {
     "name": "stdout",
     "output_type": "stream",
     "text": [
      "<class 'pandas.core.frame.DataFrame'>\n",
      "Index: 306945 entries, 1 to 354368\n",
      "Data columns (total 15 columns):\n",
      " #   Column             Non-Null Count   Dtype         \n",
      "---  ------             --------------   -----         \n",
      " 0   DateCrawled        306945 non-null  datetime64[ns]\n",
      " 1   Price              306945 non-null  int64         \n",
      " 2   VehicleType        306945 non-null  object        \n",
      " 3   RegistrationYear   306945 non-null  int64         \n",
      " 4   Gearbox            306945 non-null  object        \n",
      " 5   Power              306945 non-null  int64         \n",
      " 6   Model              306945 non-null  object        \n",
      " 7   Mileage            306945 non-null  int64         \n",
      " 8   RegistrationMonth  306945 non-null  int64         \n",
      " 9   FuelType           306945 non-null  object        \n",
      " 10  Brand              306945 non-null  object        \n",
      " 11  NotRepaired        306945 non-null  object        \n",
      " 12  DateCreated        306945 non-null  datetime64[ns]\n",
      " 13  PostalCode         306945 non-null  int64         \n",
      " 14  LastSeen           306945 non-null  datetime64[ns]\n",
      "dtypes: datetime64[ns](3), int64(6), object(6)\n",
      "memory usage: 37.5+ MB\n"
     ]
    },
    {
     "data": {
      "text/plain": [
       "None"
      ]
     },
     "metadata": {},
     "output_type": "display_data"
    },
    {
     "data": {
      "text/html": [
       "<div>\n",
       "<style scoped>\n",
       "    .dataframe tbody tr th:only-of-type {\n",
       "        vertical-align: middle;\n",
       "    }\n",
       "\n",
       "    .dataframe tbody tr th {\n",
       "        vertical-align: top;\n",
       "    }\n",
       "\n",
       "    .dataframe thead th {\n",
       "        text-align: right;\n",
       "    }\n",
       "</style>\n",
       "<table border=\"1\" class=\"dataframe\">\n",
       "  <thead>\n",
       "    <tr style=\"text-align: right;\">\n",
       "      <th></th>\n",
       "      <th>DateCrawled</th>\n",
       "      <th>Price</th>\n",
       "      <th>RegistrationYear</th>\n",
       "      <th>Power</th>\n",
       "      <th>Mileage</th>\n",
       "      <th>RegistrationMonth</th>\n",
       "      <th>DateCreated</th>\n",
       "      <th>PostalCode</th>\n",
       "      <th>LastSeen</th>\n",
       "    </tr>\n",
       "  </thead>\n",
       "  <tbody>\n",
       "    <tr>\n",
       "      <th>count</th>\n",
       "      <td>306945</td>\n",
       "      <td>306945.000000</td>\n",
       "      <td>306945.000000</td>\n",
       "      <td>306945.000000</td>\n",
       "      <td>306945.000000</td>\n",
       "      <td>306945.000000</td>\n",
       "      <td>306945</td>\n",
       "      <td>306945.000000</td>\n",
       "      <td>306945</td>\n",
       "    </tr>\n",
       "    <tr>\n",
       "      <th>mean</th>\n",
       "      <td>2016-03-21 13:19:09.149000960</td>\n",
       "      <td>4809.852270</td>\n",
       "      <td>2003.298962</td>\n",
       "      <td>124.084830</td>\n",
       "      <td>128418.250827</td>\n",
       "      <td>5.962941</td>\n",
       "      <td>2016-03-20 19:27:56.481454080</td>\n",
       "      <td>51148.072329</td>\n",
       "      <td>2016-03-30 04:26:53.551092992</td>\n",
       "    </tr>\n",
       "    <tr>\n",
       "      <th>min</th>\n",
       "      <td>2016-03-05 14:06:00</td>\n",
       "      <td>1.000000</td>\n",
       "      <td>1910.000000</td>\n",
       "      <td>1.000000</td>\n",
       "      <td>5000.000000</td>\n",
       "      <td>0.000000</td>\n",
       "      <td>2015-03-20 00:00:00</td>\n",
       "      <td>1067.000000</td>\n",
       "      <td>2016-03-05 14:15:00</td>\n",
       "    </tr>\n",
       "    <tr>\n",
       "      <th>25%</th>\n",
       "      <td>2016-03-13 11:51:00</td>\n",
       "      <td>1300.000000</td>\n",
       "      <td>1999.000000</td>\n",
       "      <td>75.000000</td>\n",
       "      <td>125000.000000</td>\n",
       "      <td>3.000000</td>\n",
       "      <td>2016-03-13 00:00:00</td>\n",
       "      <td>30900.000000</td>\n",
       "      <td>2016-03-23 12:51:00</td>\n",
       "    </tr>\n",
       "    <tr>\n",
       "      <th>50%</th>\n",
       "      <td>2016-03-21 17:58:00</td>\n",
       "      <td>3100.000000</td>\n",
       "      <td>2003.000000</td>\n",
       "      <td>110.000000</td>\n",
       "      <td>150000.000000</td>\n",
       "      <td>6.000000</td>\n",
       "      <td>2016-03-21 00:00:00</td>\n",
       "      <td>50170.000000</td>\n",
       "      <td>2016-04-03 23:47:00</td>\n",
       "    </tr>\n",
       "    <tr>\n",
       "      <th>75%</th>\n",
       "      <td>2016-03-29 14:48:00</td>\n",
       "      <td>6950.000000</td>\n",
       "      <td>2008.000000</td>\n",
       "      <td>150.000000</td>\n",
       "      <td>150000.000000</td>\n",
       "      <td>9.000000</td>\n",
       "      <td>2016-03-29 00:00:00</td>\n",
       "      <td>71711.000000</td>\n",
       "      <td>2016-04-06 10:45:00</td>\n",
       "    </tr>\n",
       "    <tr>\n",
       "      <th>max</th>\n",
       "      <td>2016-04-07 14:36:00</td>\n",
       "      <td>20000.000000</td>\n",
       "      <td>2019.000000</td>\n",
       "      <td>20000.000000</td>\n",
       "      <td>150000.000000</td>\n",
       "      <td>12.000000</td>\n",
       "      <td>2016-04-07 00:00:00</td>\n",
       "      <td>99998.000000</td>\n",
       "      <td>2016-04-07 14:58:00</td>\n",
       "    </tr>\n",
       "    <tr>\n",
       "      <th>std</th>\n",
       "      <td>NaN</td>\n",
       "      <td>4586.739108</td>\n",
       "      <td>6.955970</td>\n",
       "      <td>194.578317</td>\n",
       "      <td>36748.849246</td>\n",
       "      <td>3.600665</td>\n",
       "      <td>NaN</td>\n",
       "      <td>25769.625847</td>\n",
       "      <td>NaN</td>\n",
       "    </tr>\n",
       "  </tbody>\n",
       "</table>\n",
       "</div>"
      ],
      "text/plain": [
       "                         DateCrawled          Price  RegistrationYear  \\\n",
       "count                         306945  306945.000000     306945.000000   \n",
       "mean   2016-03-21 13:19:09.149000960    4809.852270       2003.298962   \n",
       "min              2016-03-05 14:06:00       1.000000       1910.000000   \n",
       "25%              2016-03-13 11:51:00    1300.000000       1999.000000   \n",
       "50%              2016-03-21 17:58:00    3100.000000       2003.000000   \n",
       "75%              2016-03-29 14:48:00    6950.000000       2008.000000   \n",
       "max              2016-04-07 14:36:00   20000.000000       2019.000000   \n",
       "std                              NaN    4586.739108          6.955970   \n",
       "\n",
       "               Power        Mileage  RegistrationMonth  \\\n",
       "count  306945.000000  306945.000000      306945.000000   \n",
       "mean      124.084830  128418.250827           5.962941   \n",
       "min         1.000000    5000.000000           0.000000   \n",
       "25%        75.000000  125000.000000           3.000000   \n",
       "50%       110.000000  150000.000000           6.000000   \n",
       "75%       150.000000  150000.000000           9.000000   \n",
       "max     20000.000000  150000.000000          12.000000   \n",
       "std       194.578317   36748.849246           3.600665   \n",
       "\n",
       "                         DateCreated     PostalCode  \\\n",
       "count                         306945  306945.000000   \n",
       "mean   2016-03-20 19:27:56.481454080   51148.072329   \n",
       "min              2015-03-20 00:00:00    1067.000000   \n",
       "25%              2016-03-13 00:00:00   30900.000000   \n",
       "50%              2016-03-21 00:00:00   50170.000000   \n",
       "75%              2016-03-29 00:00:00   71711.000000   \n",
       "max              2016-04-07 00:00:00   99998.000000   \n",
       "std                              NaN   25769.625847   \n",
       "\n",
       "                            LastSeen  \n",
       "count                         306945  \n",
       "mean   2016-03-30 04:26:53.551092992  \n",
       "min              2016-03-05 14:15:00  \n",
       "25%              2016-03-23 12:51:00  \n",
       "50%              2016-04-03 23:47:00  \n",
       "75%              2016-04-06 10:45:00  \n",
       "max              2016-04-07 14:58:00  \n",
       "std                              NaN  "
      ]
     },
     "metadata": {},
     "output_type": "display_data"
    },
    {
     "data": {
      "text/html": [
       "<div>\n",
       "<style scoped>\n",
       "    .dataframe tbody tr th:only-of-type {\n",
       "        vertical-align: middle;\n",
       "    }\n",
       "\n",
       "    .dataframe tbody tr th {\n",
       "        vertical-align: top;\n",
       "    }\n",
       "\n",
       "    .dataframe thead th {\n",
       "        text-align: right;\n",
       "    }\n",
       "</style>\n",
       "<table border=\"1\" class=\"dataframe\">\n",
       "  <thead>\n",
       "    <tr style=\"text-align: right;\">\n",
       "      <th></th>\n",
       "      <th>DateCrawled</th>\n",
       "      <th>Price</th>\n",
       "      <th>VehicleType</th>\n",
       "      <th>RegistrationYear</th>\n",
       "      <th>Gearbox</th>\n",
       "      <th>Power</th>\n",
       "      <th>Model</th>\n",
       "      <th>Mileage</th>\n",
       "      <th>RegistrationMonth</th>\n",
       "      <th>FuelType</th>\n",
       "      <th>Brand</th>\n",
       "      <th>NotRepaired</th>\n",
       "      <th>DateCreated</th>\n",
       "      <th>PostalCode</th>\n",
       "      <th>LastSeen</th>\n",
       "    </tr>\n",
       "  </thead>\n",
       "  <tbody>\n",
       "    <tr>\n",
       "      <th>164541</th>\n",
       "      <td>2016-03-17 02:36:00</td>\n",
       "      <td>6500</td>\n",
       "      <td>sedan</td>\n",
       "      <td>2003</td>\n",
       "      <td>auto</td>\n",
       "      <td>170</td>\n",
       "      <td>5er</td>\n",
       "      <td>150000</td>\n",
       "      <td>10</td>\n",
       "      <td>petrol</td>\n",
       "      <td>bmw</td>\n",
       "      <td>no</td>\n",
       "      <td>2016-03-17</td>\n",
       "      <td>16727</td>\n",
       "      <td>2016-03-17 07:52:00</td>\n",
       "    </tr>\n",
       "    <tr>\n",
       "      <th>105564</th>\n",
       "      <td>2016-03-09 20:45:00</td>\n",
       "      <td>850</td>\n",
       "      <td>sedan</td>\n",
       "      <td>2018</td>\n",
       "      <td>manual</td>\n",
       "      <td>60</td>\n",
       "      <td>corsa</td>\n",
       "      <td>150000</td>\n",
       "      <td>7</td>\n",
       "      <td>petrol</td>\n",
       "      <td>opel</td>\n",
       "      <td>no</td>\n",
       "      <td>2016-03-09</td>\n",
       "      <td>59609</td>\n",
       "      <td>2016-03-26 08:16:00</td>\n",
       "    </tr>\n",
       "    <tr>\n",
       "      <th>168187</th>\n",
       "      <td>2016-03-19 14:42:00</td>\n",
       "      <td>7100</td>\n",
       "      <td>convertible</td>\n",
       "      <td>1988</td>\n",
       "      <td>manual</td>\n",
       "      <td>95</td>\n",
       "      <td>golf</td>\n",
       "      <td>125000</td>\n",
       "      <td>3</td>\n",
       "      <td>petrol</td>\n",
       "      <td>volkswagen</td>\n",
       "      <td>no</td>\n",
       "      <td>2016-03-19</td>\n",
       "      <td>47877</td>\n",
       "      <td>2016-04-06 21:18:00</td>\n",
       "    </tr>\n",
       "    <tr>\n",
       "      <th>11679</th>\n",
       "      <td>2016-04-06 23:06:00</td>\n",
       "      <td>2300</td>\n",
       "      <td>small</td>\n",
       "      <td>2003</td>\n",
       "      <td>manual</td>\n",
       "      <td>58</td>\n",
       "      <td>corsa</td>\n",
       "      <td>150000</td>\n",
       "      <td>3</td>\n",
       "      <td>petrol</td>\n",
       "      <td>opel</td>\n",
       "      <td>no</td>\n",
       "      <td>2016-04-06</td>\n",
       "      <td>61118</td>\n",
       "      <td>2016-04-06 23:25:00</td>\n",
       "    </tr>\n",
       "    <tr>\n",
       "      <th>1144</th>\n",
       "      <td>2016-04-03 22:57:00</td>\n",
       "      <td>3800</td>\n",
       "      <td>sedan</td>\n",
       "      <td>2005</td>\n",
       "      <td>manual</td>\n",
       "      <td>90</td>\n",
       "      <td>astra</td>\n",
       "      <td>150000</td>\n",
       "      <td>0</td>\n",
       "      <td>petrol</td>\n",
       "      <td>opel</td>\n",
       "      <td>no</td>\n",
       "      <td>2016-04-03</td>\n",
       "      <td>27726</td>\n",
       "      <td>2016-04-06 00:45:00</td>\n",
       "    </tr>\n",
       "  </tbody>\n",
       "</table>\n",
       "</div>"
      ],
      "text/plain": [
       "               DateCrawled  Price  VehicleType  RegistrationYear Gearbox  \\\n",
       "164541 2016-03-17 02:36:00   6500        sedan              2003    auto   \n",
       "105564 2016-03-09 20:45:00    850        sedan              2018  manual   \n",
       "168187 2016-03-19 14:42:00   7100  convertible              1988  manual   \n",
       "11679  2016-04-06 23:06:00   2300        small              2003  manual   \n",
       "1144   2016-04-03 22:57:00   3800        sedan              2005  manual   \n",
       "\n",
       "        Power  Model  Mileage  RegistrationMonth FuelType       Brand  \\\n",
       "164541    170    5er   150000                 10   petrol         bmw   \n",
       "105564     60  corsa   150000                  7   petrol        opel   \n",
       "168187     95   golf   125000                  3   petrol  volkswagen   \n",
       "11679      58  corsa   150000                  3   petrol        opel   \n",
       "1144       90  astra   150000                  0   petrol        opel   \n",
       "\n",
       "       NotRepaired DateCreated  PostalCode            LastSeen  \n",
       "164541          no  2016-03-17       16727 2016-03-17 07:52:00  \n",
       "105564          no  2016-03-09       59609 2016-03-26 08:16:00  \n",
       "168187          no  2016-03-19       47877 2016-04-06 21:18:00  \n",
       "11679           no  2016-04-06       61118 2016-04-06 23:25:00  \n",
       "1144            no  2016-04-03       27726 2016-04-06 00:45:00  "
      ]
     },
     "metadata": {},
     "output_type": "display_data"
    }
   ],
   "source": [
    "\n",
    "# Revisión final de los datos\n",
    "display(HTML('<h1> Revisión final del DataFrame'))\n",
    "display(df.info())\n",
    "display(df.describe())\n",
    "display(df.sample(5))"
   ]
  },
  {
   "cell_type": "markdown",
   "metadata": {},
   "source": [
    "### Preprocesamiento de datos (Explicacion)\n",
    "\n",
    "Durante este proceso de preparacion de datos se realizaron varias cosas, por ejemplo\n",
    "- Se cargo el archivo car_data.csv en un dataframe y realizamos un analisis de su estructura\n",
    "\n",
    "- Se realizo una exploracoon inicial usando metodos como .info() para obtener detalles sobre el numero de entradas, tipos de datos y balores nulos.\n",
    "\n",
    "- Generamos estadisticas descriptivas de las columnas numericas usando el metodo .describe()\n",
    "\n",
    "- Obtuvimos una muestra aleatoria del dataframe mediante el uso del metodo sample()\n",
    "\n",
    "- Se descarto las filas duplicadas con el metodo drop_duplicates\n",
    "\n",
    "- Imputamos los valores nulos de las columnas categóricas con la moda (valor más frecuente) usando fillna().\n",
    "\n",
    "- Se realizaron cambios en la columnas de fecha convirtiendolo al formato adecuado usando el metodo pd.to_datetime()\n",
    "\n",
    "- Tambien se elimino la columna \"NumberOfPictures\" ya que todos sus valores son 0 y no aportan informacion util al modelo."
   ]
  },
  {
   "cell_type": "markdown",
   "metadata": {},
   "source": [
    "<div class=\"alert alert-block alert-danger\">\n",
    "<b>Comentario de Reviewer</b> <a class=\"tocSkip\"></a>\n",
    "\n",
    "Esta bien, pero nota que la columna price tiene precios 0, registration year tiene valores muy pequeños y muy grandes y power también tiene valores 0. Revisa qué hay que descartar. Una vez corregido esto revisaré los resultados de los modelos. El entrenamiento de estos me parece correcto, por lo que solamente revisa cómo cambian los resultados.\n",
    "</div>"
   ]
  },
  {
   "cell_type": "markdown",
   "metadata": {},
   "source": [
    "<div class=\"alert alert-block alert-success\">\n",
    "<b>Comentario de Reviewer v2</b> <a class=\"tocSkip\"></a>\n",
    "\n",
    "Ok, se filtraron varios datos que no hacian sentido.\n",
    "</div>"
   ]
  },
  {
   "cell_type": "markdown",
   "metadata": {},
   "source": [
    "## Entrenamiento del modelo "
   ]
  },
  {
   "cell_type": "code",
   "execution_count": 12,
   "metadata": {},
   "outputs": [],
   "source": [
    "# Excluir columnas de fechas\n",
    "columns_to_exclude = ['DateCrawled', 'DateCreated', 'LastSeen']\n",
    "\n",
    "# Division del conjunto de datos:\n",
    "\n",
    "X = df.drop(columns=['Price'] + columns_to_exclude)\n",
    "y = df['Price']\n",
    "X_train, X_test, y_train, y_test = train_test_split(X, y, test_size=0.2, random_state=12345)"
   ]
  },
  {
   "cell_type": "code",
   "execution_count": 13,
   "metadata": {},
   "outputs": [],
   "source": [
    "# Codificacion de variables categoricas (OHE)\n",
    "X_train = pd.get_dummies(X_train, drop_first=True)\n",
    "X_test = pd.get_dummies(X_test, drop_first=True)\n",
    "\n",
    "# Asegurarse de que ambas matrices tienen las mismas columnas\n",
    "X_train, X_test = X_train.align(X_test, join='left', axis=1, fill_value=0)"
   ]
  },
  {
   "cell_type": "code",
   "execution_count": 14,
   "metadata": {},
   "outputs": [
    {
     "name": "stdout",
     "output_type": "stream",
     "text": [
      "Regresion linear RMSE: 2896.89866446691\n",
      "Regression Linear Training Time: 4.383101224899292 seconds\n"
     ]
    }
   ],
   "source": [
    "# Regresion linear\n",
    "\n",
    "# Medir tiempo de entrenamiento \n",
    "start_time = time.time()\n",
    "\n",
    "lin_reg = LinearRegression()\n",
    "lin_reg.fit(X_train, y_train)\n",
    "\n",
    "# Medir el tiempo de entrenamiento\n",
    "training_time_lin = time.time() - start_time\n",
    "\n",
    "y_pred_lin = lin_reg.predict(X_test)\n",
    "\n",
    "#evaluacion\n",
    "mse_lin = mean_squared_error(y_test, y_pred_lin)\n",
    "rmse_lin = np.sqrt(mse_lin)\n",
    "print(f'Regresion linear RMSE: {rmse_lin}')\n",
    "print(f'Regression Linear Training Time: {training_time_lin} seconds')"
   ]
  },
  {
   "cell_type": "code",
   "execution_count": 15,
   "metadata": {},
   "outputs": [
    {
     "name": "stdout",
     "output_type": "stream",
     "text": [
      "Decision Tree RMSE: 2068.9675700147905\n",
      "Decision Tree Training Time: 5.503253698348999 seconds\n"
     ]
    }
   ],
   "source": [
    "# Árbol de decisión \n",
    "# Medir el tiempo de entrenamiento\n",
    "start_time = time.time()\n",
    "\n",
    "tree_reg = DecisionTreeRegressor(random_state=12345)\n",
    "tree_reg.fit(X_train, y_train)\n",
    "\n",
    "# Medir el tiempo de entrenamiento\n",
    "training_time_tree = time.time() - start_time\n",
    "\n",
    "# Medir el tiempo de entrenamiento\n",
    "start_time = time.time()\n",
    "y_pred_tree = tree_reg.predict(X_test)\n",
    "\n",
    "mse_tree = mean_squared_error(y_test, y_pred_tree)\n",
    "rmse_tree = np.sqrt(mse_tree)\n",
    "print(f'Decision Tree RMSE: {rmse_tree}')\n",
    "print(f'Decision Tree Training Time: {training_time_tree} seconds')"
   ]
  },
  {
   "cell_type": "code",
   "execution_count": 16,
   "metadata": {},
   "outputs": [
    {
     "name": "stdout",
     "output_type": "stream",
     "text": [
      "Random Forest RMSE: 2880.8542610591453\n",
      "Random Forest Training Time: 6.361469268798828 seconds\n"
     ]
    }
   ],
   "source": [
    "# Ajustar los parámetros para reducir el tiempo de entrenamiento\n",
    "forest_reg = RandomForestRegressor(\n",
    "    n_estimators=100,       # Reducir el número de árboles\n",
    "    max_depth=10,           # Limitar la profundidad máxima de los árboles\n",
    "    max_features='sqrt',    # Reducir el número de características consideradas\n",
    "    n_jobs=-1,              # Paralelizar el entrenamiento (usa todos los núcleos disponibles)\n",
    "    random_state=42\n",
    ")\n",
    "# Medir el tiempo de entrenamiento\n",
    "start_time = time.time()\n",
    "\n",
    "# Entrenar el modelo\n",
    "forest_reg.fit(X_train, y_train)\n",
    "\n",
    "# Medir el tiempo de entrenamiento\n",
    "training_time_forest = time.time() - start_time\n",
    "\n",
    "# Predicciones\n",
    "y_pred_forest = forest_reg.predict(X_test)\n",
    "\n",
    "# Evaluación\n",
    "mse_forest = mean_squared_error(y_test, y_pred_forest)\n",
    "rmse_forest = np.sqrt(mse_forest)\n",
    "print(f'Random Forest RMSE: {rmse_forest}')\n",
    "print(f'Random Forest Training Time: {training_time_forest} seconds')"
   ]
  },
  {
   "cell_type": "code",
   "execution_count": 17,
   "metadata": {},
   "outputs": [
    {
     "name": "stdout",
     "output_type": "stream",
     "text": [
      "Training until validation scores don't improve for 100 rounds\n",
      "[100]\ttrain's rmse: 1688.55\tvalid's rmse: 1702.87\n",
      "[200]\ttrain's rmse: 1618.9\tvalid's rmse: 1652.89\n",
      "[300]\ttrain's rmse: 1579.08\tvalid's rmse: 1628.73\n",
      "[400]\ttrain's rmse: 1550.34\tvalid's rmse: 1614.17\n",
      "[500]\ttrain's rmse: 1526.55\tvalid's rmse: 1603.16\n",
      "[600]\ttrain's rmse: 1505.15\tvalid's rmse: 1594.02\n",
      "[700]\ttrain's rmse: 1483.52\tvalid's rmse: 1584.95\n",
      "[800]\ttrain's rmse: 1465.92\tvalid's rmse: 1578.54\n",
      "[900]\ttrain's rmse: 1446.87\tvalid's rmse: 1572.2\n",
      "[1000]\ttrain's rmse: 1434.59\tvalid's rmse: 1568.52\n",
      "Did not meet early stopping. Best iteration is:\n",
      "[1000]\ttrain's rmse: 1434.59\tvalid's rmse: 1568.52\n",
      "LightGBM RMSE: 1568.5190677021421\n",
      "LightGBM Training Time: 3.9288523197174072 seconds\n"
     ]
    }
   ],
   "source": [
    "# Preparar datos para LightGBM\n",
    "train_data = lgb.Dataset(X_train, label=y_train)\n",
    "valid_data = lgb.Dataset(X_test, label=y_test, reference=train_data)\n",
    "\n",
    "# Medir el tiempo de entrenamiento\n",
    "start_time = time.time()\n",
    "\n",
    "# Parámetros\n",
    "params = {\n",
    "    'objective': 'regression',\n",
    "    'metric': 'rmse',\n",
    "    'boosting_type': 'gbdt',\n",
    "    'verbose': -1\n",
    "}\n",
    "\n",
    "# Entrenar el modelo con early stopping\n",
    "lgbm_reg = lgb.train(\n",
    "    params,\n",
    "    train_data,\n",
    "    num_boost_round=1000,\n",
    "    valid_sets=[train_data, valid_data],\n",
    "    valid_names=['train', 'valid'],\n",
    "    callbacks=[\n",
    "        lgb.early_stopping(stopping_rounds=100),\n",
    "        lgb.log_evaluation(100),\n",
    "        ],\n",
    ")\n",
    "# Medir el tiempo de entrenamiento\n",
    "training_time_lgbm = time.time() - start_time\n",
    "\n",
    "\n",
    "# Predicciones\n",
    "y_pred_lgbm = lgbm_reg.predict(X_test, num_iteration=lgbm_reg.best_iteration)\n",
    "\n",
    "# Evaluación\n",
    "mse_lgbm = mean_squared_error(y_test, y_pred_lgbm)\n",
    "rmse_lgbm = np.sqrt(mse_lgbm)\n",
    "print(f'LightGBM RMSE: {rmse_lgbm}')\n",
    "print(f'LightGBM Training Time: {training_time_lgbm} seconds')"
   ]
  },
  {
   "cell_type": "markdown",
   "metadata": {},
   "source": [
    "<div class=\"alert alert-block alert-success\">\n",
    "<b>Comentario de Reviewer v2</b> <a class=\"tocSkip\"></a>\n",
    "\n",
    "Muy bien con el entrenamiento de los modelos.\n",
    "</div>"
   ]
  },
  {
   "cell_type": "markdown",
   "metadata": {},
   "source": [
    "## Análisis del modelo"
   ]
  },
  {
   "cell_type": "code",
   "execution_count": 18,
   "metadata": {},
   "outputs": [
    {
     "data": {
      "text/html": [
       "<div>\n",
       "<style scoped>\n",
       "    .dataframe tbody tr th:only-of-type {\n",
       "        vertical-align: middle;\n",
       "    }\n",
       "\n",
       "    .dataframe tbody tr th {\n",
       "        vertical-align: top;\n",
       "    }\n",
       "\n",
       "    .dataframe thead th {\n",
       "        text-align: right;\n",
       "    }\n",
       "</style>\n",
       "<table border=\"1\" class=\"dataframe\">\n",
       "  <thead>\n",
       "    <tr style=\"text-align: right;\">\n",
       "      <th></th>\n",
       "      <th>Model</th>\n",
       "      <th>RMSE</th>\n",
       "      <th>Training Time (s)</th>\n",
       "    </tr>\n",
       "  </thead>\n",
       "  <tbody>\n",
       "    <tr>\n",
       "      <th>0</th>\n",
       "      <td>Linear Regression</td>\n",
       "      <td>2896.898664</td>\n",
       "      <td>4.383101</td>\n",
       "    </tr>\n",
       "    <tr>\n",
       "      <th>1</th>\n",
       "      <td>Decision Tree</td>\n",
       "      <td>2068.967570</td>\n",
       "      <td>5.503254</td>\n",
       "    </tr>\n",
       "    <tr>\n",
       "      <th>2</th>\n",
       "      <td>Random Forest</td>\n",
       "      <td>2880.854261</td>\n",
       "      <td>6.361469</td>\n",
       "    </tr>\n",
       "    <tr>\n",
       "      <th>3</th>\n",
       "      <td>LightGBM</td>\n",
       "      <td>1568.519068</td>\n",
       "      <td>3.928852</td>\n",
       "    </tr>\n",
       "  </tbody>\n",
       "</table>\n",
       "</div>"
      ],
      "text/plain": [
       "               Model         RMSE  Training Time (s)\n",
       "0  Linear Regression  2896.898664           4.383101\n",
       "1      Decision Tree  2068.967570           5.503254\n",
       "2      Random Forest  2880.854261           6.361469\n",
       "3           LightGBM  1568.519068           3.928852"
      ]
     },
     "metadata": {},
     "output_type": "display_data"
    }
   ],
   "source": [
    "# Comparacion entre modelos\n",
    "results = {\n",
    "    'Model': ['Linear Regression', 'Decision Tree', 'Random Forest', 'LightGBM'],\n",
    "    'RMSE': [rmse_lin, rmse_tree, rmse_forest, rmse_lgbm],\n",
    "    'Training Time (s)': [training_time_lin, training_time_tree, training_time_forest, training_time_lgbm]\n",
    "}\n",
    "\n",
    "results_df = pd.DataFrame(results)\n",
    "display(results_df)\n"
   ]
  },
  {
   "cell_type": "code",
   "execution_count": 19,
   "metadata": {},
   "outputs": [
    {
     "data": {
      "image/png": "[encoded data removed]",
      "text/plain": [
       "<Figure size 1000x500 with 1 Axes>"
      ]
     },
     "metadata": {},
     "output_type": "display_data"
    }
   ],
   "source": [
    "# Crear gráfico de barras para RMSE\n",
    "plt.figure(figsize=(10, 5))\n",
    "plt.bar(results_df['Model'], results_df['RMSE'], color='skyblue')\n",
    "plt.xlabel('Model')\n",
    "plt.ylabel('RMSE')\n",
    "plt.title('RMSE Comparison of Models')\n",
    "plt.show()\n"
   ]
  },
  {
   "cell_type": "code",
   "execution_count": 20,
   "metadata": {},
   "outputs": [
    {
     "data": {
      "image/png": "[encoded data removed]",
      "text/plain": [
       "<Figure size 1000x500 with 1 Axes>"
      ]
     },
     "metadata": {},
     "output_type": "display_data"
    }
   ],
   "source": [
    "# Crear gráfico de barras para Tiempo de Entrenamiento\n",
    "plt.figure(figsize=(10, 5))\n",
    "plt.bar(results_df['Model'], results_df['Training Time (s)'], color='lightgreen')\n",
    "plt.xlabel('Model')\n",
    "plt.ylabel('Training Time (s)')\n",
    "plt.title('Training Time Comparison of Models')\n",
    "plt.show()"
   ]
  },
  {
   "cell_type": "markdown",
   "metadata": {},
   "source": [
    "<div class=\"alert alert-block alert-success\">\n",
    "<b>Comentario de Reviewer v2</b> <a class=\"tocSkip\"></a>\n",
    "\n",
    "Correcto!\n",
    "</div>"
   ]
  },
  {
   "cell_type": "markdown",
   "metadata": {},
   "source": [
    "## Conclusion "
   ]
  },
  {
   "cell_type": "markdown",
   "metadata": {},
   "source": [
    "Con base en los resultados obtenidos podemos evaluar que modelo ofrece un balance mejor entre precision y eficiencia. Aqui hay algunas consideraciones\n",
    "\n",
    "- Regresion lineal: La de menor tiempo de entrenamiento pero no puede capturar relaciones complejas\n",
    "- Arbol de Decision: Puede ser mas preciso pero tiende a sobreajustarse\n",
    "- Bosque Aleatorio: Suele ofrecer un buen balance entre precision y tiempo de entrenamieno, mejor que los arboles individuales\n",
    "- LightGBM: Generalmente muy preciso y eficiente para los conjuntos de datos mas grandes\n",
    "\n",
    "En conclusion el mejor modelo que cumple con los objetivos que les interesa a RustyVargain:\n",
    "\n",
    "- Calidad de prediccion: LightGBM ofrece la mejor precisión (menor RMSE), lo que es crucial para una aplicación que determina el valor de mercado de los coches.\n",
    "- Velocidad de la prediccion: Aunque el tiempo de entrenamiento es mayor, es aceptable considerando la mejora significativa en la precisión\n",
    "- Tiempo requerido para el entremiento: LightGBM ofrece un buen equilibrio entre precision y tiempo de entrenamiento."
   ]
  },
  {
   "cell_type": "markdown",
   "metadata": {},
   "source": [
    "<div class=\"alert alert-block alert-success\">\n",
    "<b>Comentario de Reviewer v2</b> <a class=\"tocSkip\"></a>\n",
    "\n",
    "Muy bien, efectivametne LightGBM se ve mejor en todos los aspectos a considerar.\n",
    "</div>"
   ]
  },
  {
   "cell_type": "markdown",
   "metadata": {},
   "source": [
    "# Lista de control"
   ]
  },
  {
   "cell_type": "markdown",
   "metadata": {},
   "source": [
    "Escribe 'x' para verificar. Luego presiona Shift+Enter"
   ]
  },
  {
   "cell_type": "markdown",
   "metadata": {},
   "source": [
    "- [x]  Jupyter Notebook está abierto\n",
    "- [ ]  El código no tiene errores- [ ]  Las celdas con el código han sido colocadas en orden de ejecución- [ ]  Los datos han sido descargados y preparados- [ ]  Los modelos han sido entrenados\n",
    "- [ ]  Se realizó el análisis de velocidad y calidad de los modelos"
   ]
  },
  {
   "cell_type": "code",
   "execution_count": null,
   "metadata": {},
   "outputs": [],
   "source": []
  }
 ],
 "metadata": {
  "kernelspec": {
   "display_name": "Python 3 (ipykernel)",
   "language": "python",
   "name": "python3"
  },
  "language_info": {
   "codemirror_mode": {
    "name": "ipython",
    "version": 3
   },
   "file_extension": ".py",
   "mimetype": "text/x-python",
   "name": "python",
   "nbconvert_exporter": "python",
   "pygments_lexer": "ipython3",
   "version": "3.12.0"
  },
  "toc": {
   "base_numbering": 1,
   "nav_menu": {},
   "number_sections": true,
   "sideBar": true,
   "skip_h1_title": true,
   "title_cell": "Table of Contents",
   "title_sidebar": "Contents",
   "toc_cell": false,
   "toc_position": {},
   "toc_section_display": true,
   "toc_window_display": false
  }
 },
 "nbformat": 4,
 "nbformat_minor": 2
}
